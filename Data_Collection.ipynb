{
 "cells": [
  {
   "cell_type": "code",
   "execution_count": 1,
   "metadata": {},
   "outputs": [
    {
     "name": "stderr",
     "output_type": "stream",
     "text": [
      "d:\\LLMS\\.venv\\lib\\site-packages\\tqdm\\auto.py:21: TqdmWarning: IProgress not found. Please update jupyter and ipywidgets. See https://ipywidgets.readthedocs.io/en/stable/user_install.html\n",
      "  from .autonotebook import tqdm as notebook_tqdm\n"
     ]
    }
   ],
   "source": [
    "import pandas as pd\n",
    "import numpy as np\n",
    "import praw\n",
    "import requests\n",
    "from selenium import webdriver\n",
    "from langdetect import detect\n",
    "from datasets import load_dataset"
   ]
  },
  {
   "cell_type": "code",
   "execution_count": 2,
   "metadata": {},
   "outputs": [],
   "source": [
    "data_path = \"./data/\""
   ]
  },
  {
   "cell_type": "code",
   "execution_count": 3,
   "metadata": {},
   "outputs": [],
   "source": [
    "reddit = praw.Reddit(user_agent=True,client_id='GxIziuqfV7LLpQrKSD3FgQ', \n",
    "                     client_secret='JVKSkRpfQRu4vuA5hGx4ceQWISzGQg'\n",
    "                     , username='first_app')\n"
   ]
  },
  {
   "cell_type": "code",
   "execution_count": 4,
   "metadata": {},
   "outputs": [],
   "source": [
    "def scrape_subreddit(subreddit_name, limit_p=None):\n",
    "    subreddit_name = subreddit_name\n",
    "    subreddit = reddit.subreddit(subreddit_name)\n",
    "\n",
    "    posts_data = []\n",
    "\n",
    "    for post in subreddit.top(limit=limit_p):\n",
    "        posts_data.append({\"text\": post.title})\n",
    "        if post.selftext:\n",
    "            posts_data.append({\"text\": post.selftext})\n",
    "        post.comments.replace_more(limit=None)  \n",
    "        for comment in post.comments.list():\n",
    "            posts_data.append({\"text\": comment.body})\n",
    "\n",
    "    df = pd.DataFrame(posts_data)\n",
    "    return df\n"
   ]
  },
  {
   "cell_type": "code",
   "execution_count": 25,
   "metadata": {},
   "outputs": [],
   "source": [
    "df = pd.read_csv('QADI.csv')"
   ]
  },
  {
   "cell_type": "code",
   "execution_count": 9,
   "metadata": {},
   "outputs": [],
   "source": [
    "EG_CAIRO_df = scrape_subreddit(\"CAIRO\")"
   ]
  },
  {
   "cell_type": "code",
   "execution_count": 11,
   "metadata": {},
   "outputs": [],
   "source": [
    "EG_CAIRO_df.to_csv(data_path + \"EG_CAIRO_df.csv\")"
   ]
  },
  {
   "cell_type": "code",
   "execution_count": 12,
   "metadata": {},
   "outputs": [],
   "source": [
    "df_EG = df[df.label == 10]['text'].reset_index(drop=True)\n",
    "df_EG.to_csv(data_path+'EG_QADI_df.csv')"
   ]
  },
  {
   "cell_type": "code",
   "execution_count": 22,
   "metadata": {},
   "outputs": [],
   "source": [
    "SA = scrape_subreddit(\"SaudiForSaudis\")\n",
    "SA.to_csv(data_path + \"SA_SaudiForSaudis_df.csv\")"
   ]
  },
  {
   "cell_type": "code",
   "execution_count": 24,
   "metadata": {},
   "outputs": [],
   "source": [
    "SaudiPets_df = scrape_subreddit(\"SaudiPets\")\n",
    "SaudiPets_df.to_csv(data_path + \"SA_SaudiPets_df.csv\")"
   ]
  },
  {
   "cell_type": "code",
   "execution_count": 26,
   "metadata": {},
   "outputs": [],
   "source": [
    "KingdomofSaudiArabia_df = scrape_subreddit(\"KingdomofSaudiArabia\")\n",
    "KingdomofSaudiArabia_df.to_csv(data_path + \"SA_KingdomofSaudiArabia_df.csv\")"
   ]
  },
  {
   "cell_type": "code",
   "execution_count": 26,
   "metadata": {},
   "outputs": [],
   "source": [
    "df_SA = df[df.label == 2]['text'].reset_index(drop=True)\n",
    "df_SA.to_csv(data_path+'SA_QADI_df.csv')"
   ]
  },
  {
   "cell_type": "code",
   "execution_count": 5,
   "metadata": {},
   "outputs": [],
   "source": [
    "Libya_df = scrape_subreddit(\"Libya\")\n",
    "Libya_df.to_csv(data_path + \"LY_Libya_df.csv\")"
   ]
  },
  {
   "cell_type": "code",
   "execution_count": 47,
   "metadata": {},
   "outputs": [],
   "source": [
    "df_ly = df[df.label == 5]['text'].reset_index(drop=True)\n",
    "df_ly.to_csv(data_path+'LY_QADI_df.csv')"
   ]
  },
  {
   "cell_type": "code",
   "execution_count": 48,
   "metadata": {},
   "outputs": [],
   "source": [
    "df_ae = df[df.label == 15]['text'].reset_index(drop=True)\n",
    "df_ae.to_csv(data_path+'AE_QADI_df.csv')"
   ]
  },
  {
   "cell_type": "code",
   "execution_count": 65,
   "metadata": {},
   "outputs": [],
   "source": [
    "Emiratis_df = scrape_subreddit(\"Emiratis\")\n",
    "Emiratis_df.to_csv(data_path+'AE_Emiratis_df.csv')"
   ]
  },
  {
   "cell_type": "code",
   "execution_count": 49,
   "metadata": {},
   "outputs": [],
   "source": [
    "df_bh = df[df.label == 13]['text'].reset_index(drop=True)\n",
    "df_bh.to_csv(data_path+'BH_QADI_df.csv')"
   ]
  },
  {
   "cell_type": "code",
   "execution_count": 50,
   "metadata": {},
   "outputs": [],
   "source": [
    "df_OM = df[df.label == 0]['text'].reset_index(drop=True)\n",
    "df_OM.to_csv(data_path+'OM_QADI_df.csv')"
   ]
  },
  {
   "cell_type": "code",
   "execution_count": 51,
   "metadata": {},
   "outputs": [],
   "source": [
    "df_SD = df[df.label == 1]['text'].reset_index(drop=True)\n",
    "df_SD.to_csv(data_path+'SD_QADI_df.csv')"
   ]
  },
  {
   "cell_type": "code",
   "execution_count": 59,
   "metadata": {},
   "outputs": [],
   "source": [
    "susudanese_content_df = scrape_subreddit(\"sudanese_content\")\n",
    "susudanese_content_df.to_csv(data_path+'SD_sudanese_content_df.csv')"
   ]
  },
  {
   "cell_type": "code",
   "execution_count": 60,
   "metadata": {},
   "outputs": [],
   "source": [
    "df_KW = df[df.label == 3]['text'].reset_index(drop=True)\n",
    "df_KW.to_csv(data_path+'KW_QADI_df.csv')"
   ]
  },
  {
   "cell_type": "code",
   "execution_count": 61,
   "metadata": {},
   "outputs": [],
   "source": [
    "KuwaitForKuwaitis_df = scrape_subreddit(\"KuwaitForKuwaitis\")\n",
    "KuwaitForKuwaitis_df.to_csv(data_path+'KW_KuwaitForKuwaitis_df.csv')"
   ]
  },
  {
   "cell_type": "code",
   "execution_count": 63,
   "metadata": {},
   "outputs": [],
   "source": [
    "df_IQ = df[df.label == 8]['text'].reset_index(drop=True)\n",
    "df_IQ.to_csv(data_path+'IQ_QADI_df.csv')"
   ]
  },
  {
   "cell_type": "code",
   "execution_count": 64,
   "metadata": {},
   "outputs": [],
   "source": [
    "Iraq_df = scrape_subreddit(\"Iraq\")\n",
    "Iraq_df.to_csv(data_path+'IQ_Iraq_df.csv')"
   ]
  },
  {
   "cell_type": "code",
   "execution_count": 67,
   "metadata": {},
   "outputs": [],
   "source": [
    "df_QA = df[df.label == 4]['text'].reset_index(drop=True)\n",
    "df_QA.to_csv(data_path+'QA_QADI_df.csv')"
   ]
  },
  {
   "cell_type": "code",
   "execution_count": 68,
   "metadata": {},
   "outputs": [],
   "source": [
    "df_LB = df[df.label == 5]['text'].reset_index(drop=True)\n",
    "df_LB.to_csv(data_path+'LB_QADI_df.csv')"
   ]
  },
  {
   "cell_type": "code",
   "execution_count": 69,
   "metadata": {},
   "outputs": [],
   "source": [
    "df_JO = df[df.label == 6]['text'].reset_index(drop=True)\n",
    "df_JO.to_csv(data_path+'JO_QADI_df.csv')"
   ]
  },
  {
   "cell_type": "code",
   "execution_count": 70,
   "metadata": {},
   "outputs": [],
   "source": [
    "jordan_df = scrape_subreddit(\"jordan\")\n",
    "jordan_df.to_csv(data_path+'JO_jordan_df.csv')\n"
   ]
  },
  {
   "cell_type": "code",
   "execution_count": 5,
   "metadata": {},
   "outputs": [],
   "source": [
    "Amman_df = scrape_subreddit(\"Amman\")\n",
    "Amman_df.to_csv(data_path+'JO_Amman_df.csv')"
   ]
  },
  {
   "cell_type": "code",
   "execution_count": 72,
   "metadata": {},
   "outputs": [],
   "source": [
    "df_SY = df[df.label == 12]['text'].reset_index(drop=True)\n",
    "df_SY.to_csv(data_path+'SY_QADI_df.csv')"
   ]
  },
  {
   "cell_type": "code",
   "execution_count": 6,
   "metadata": {},
   "outputs": [],
   "source": [
    "Syria_df = scrape_subreddit(\"Syria\")\n",
    "Syria_df.to_csv(data_path+'SY_Syria_df.csv')"
   ]
  },
  {
   "cell_type": "code",
   "execution_count": 9,
   "metadata": {},
   "outputs": [],
   "source": [
    "df_MA = df[df.label == 9]['text'].reset_index(drop=True)\n",
    "df_MA.to_csv(data_path+'MA_QADI_df.csv')"
   ]
  },
  {
   "cell_type": "code",
   "execution_count": 10,
   "metadata": {},
   "outputs": [],
   "source": [
    "df_PL = df[df.label == 11]['text'].reset_index(drop=True)\n",
    "df_PL.to_csv(data_path+'PL_QADI_df.csv')"
   ]
  },
  {
   "cell_type": "code",
   "execution_count": 13,
   "metadata": {},
   "outputs": [],
   "source": [
    "df_YE = df[df.label == 12]['text'].reset_index(drop=True)\n",
    "df_YE.to_csv(data_path+'YE_QADI_df.csv')"
   ]
  },
  {
   "cell_type": "code",
   "execution_count": 14,
   "metadata": {},
   "outputs": [],
   "source": [
    "df_DZ = df[df.label == 14]['text'].reset_index(drop=True)\n",
    "df_DZ.to_csv(data_path+'DZ_QADI_df.csv')"
   ]
  },
  {
   "cell_type": "code",
   "execution_count": 15,
   "metadata": {},
   "outputs": [],
   "source": [
    "df_TN = df[df.label == 16]['text'].reset_index(drop=True)\n",
    "df_TN.to_csv(data_path+'TN_QADI_df.csv')"
   ]
  },
  {
   "cell_type": "code",
   "execution_count": 16,
   "metadata": {},
   "outputs": [],
   "source": [
    "Tunisia_df = scrape_subreddit(\"Tunisia\")\n",
    "Tunisia_df.to_csv(data_path+'TN_Tunisia_df.csv')\n"
   ]
  },
  {
   "cell_type": "code",
   "execution_count": 17,
   "metadata": {},
   "outputs": [
    {
     "name": "stderr",
     "output_type": "stream",
     "text": [
      "d:\\LLMS\\.venv\\lib\\site-packages\\tqdm\\auto.py:21: TqdmWarning: IProgress not found. Please update jupyter and ipywidgets. See https://ipywidgets.readthedocs.io/en/stable/user_install.html\n",
      "  from .autonotebook import tqdm as notebook_tqdm\n",
      "d:\\LLMS\\.venv\\lib\\site-packages\\huggingface_hub\\file_download.py:144: UserWarning: `huggingface_hub` cache-system uses symlinks by default to efficiently store duplicated files but your machine does not support them in C:\\Users\\user\\.cache\\huggingface\\hub\\datasets--amgadhasan--arabic_tweets_dialects. Caching files will still work but in a degraded version that might require more space on your disk. This warning can be disabled by setting the `HF_HUB_DISABLE_SYMLINKS_WARNING` environment variable. For more details, see https://huggingface.co/docs/huggingface_hub/how-to-cache#limitations.\n",
      "To support symlinks on Windows, you either need to activate Developer Mode or to run Python as an administrator. In order to activate developer mode, see this article: https://docs.microsoft.com/en-us/windows/apps/get-started/enable-your-device-for-development\n",
      "  warnings.warn(message)\n",
      "Generating train split: 100%|██████████| 147725/147725 [00:00<00:00, 1691745.71 examples/s]\n"
     ]
    }
   ],
   "source": [
    "from datasets import load_dataset\n",
    "\n",
    "arabic_tweets_dialects = load_dataset(\"amgadhasan/arabic_tweets_dialects\")"
   ]
  },
  {
   "cell_type": "code",
   "execution_count": 24,
   "metadata": {},
   "outputs": [],
   "source": [
    "arabic_tweets_dialects_df = arabic_tweets_dialects['train'].to_pandas()"
   ]
  },
  {
   "cell_type": "code",
   "execution_count": 27,
   "metadata": {},
   "outputs": [
    {
     "data": {
      "text/plain": [
       "dialect\n",
       "EG    57636\n",
       "LY    36499\n",
       "LB    27617\n",
       "SD    14434\n",
       "MA    11539\n",
       "Name: count, dtype: int64"
      ]
     },
     "execution_count": 27,
     "metadata": {},
     "output_type": "execute_result"
    }
   ],
   "source": [
    "arabic_tweets_dialects_df.dialect.value_counts()"
   ]
  },
  {
   "cell_type": "code",
   "execution_count": 32,
   "metadata": {},
   "outputs": [],
   "source": [
    "df_arabic_tweets_dialects_EG = arabic_tweets_dialects_df[arabic_tweets_dialects_df.dialect == 'EG']['text'].reset_index(drop=True)\n",
    "df_arabic_tweets_dialects_EG.to_csv(data_path+'EG_arabic_tweets_dialects_df.csv')"
   ]
  },
  {
   "cell_type": "code",
   "execution_count": 35,
   "metadata": {},
   "outputs": [],
   "source": [
    "df_arabic_tweets_dialects_LY = arabic_tweets_dialects_df[arabic_tweets_dialects_df.dialect == 'LY']['text'].reset_index(drop=True)\n",
    "df_arabic_tweets_dialects_LY.to_csv(data_path+'LY_arabic_tweets_dialects_df.csv')"
   ]
  },
  {
   "cell_type": "code",
   "execution_count": 39,
   "metadata": {},
   "outputs": [],
   "source": [
    "df_arabic_tweets_dialects_LB = arabic_tweets_dialects_df[arabic_tweets_dialects_df.dialect == 'LB']['text'].reset_index(drop=True)\n",
    "df_arabic_tweets_dialects_LB.to_csv(data_path+'LB_arabic_tweets_dialects_df.csv')"
   ]
  },
  {
   "cell_type": "code",
   "execution_count": 40,
   "metadata": {},
   "outputs": [],
   "source": [
    "df_arabic_tweets_dialects_SD = arabic_tweets_dialects_df[arabic_tweets_dialects_df.dialect == 'SD']['text'].reset_index(drop=True)\n",
    "df_arabic_tweets_dialects_SD.to_csv(data_path+'SD_arabic_tweets_dialects_df.csv')"
   ]
  },
  {
   "cell_type": "code",
   "execution_count": 41,
   "metadata": {},
   "outputs": [],
   "source": [
    "df_arabic_tweets_dialects_MA = arabic_tweets_dialects_df[arabic_tweets_dialects_df.dialect == 'MA']['text'].reset_index(drop=True)\n",
    "df_arabic_tweets_dialects_MA.to_csv(data_path+'MA_arabic_tweets_dialects_df.csv')\n"
   ]
  },
  {
   "cell_type": "code",
   "execution_count": 43,
   "metadata": {},
   "outputs": [],
   "source": [
    "Arabic_Dialects_Translation_df = pd.read_json(\"hf://datasets/BaselMousi/Arabic-Dialects-Translation/test.json\")"
   ]
  },
  {
   "cell_type": "code",
   "execution_count": 47,
   "metadata": {},
   "outputs": [],
   "source": [
    "Arabic_Dialects_Translation_QA = Arabic_Dialects_Translation_df['Qatari']"
   ]
  },
  {
   "cell_type": "code",
   "execution_count": 49,
   "metadata": {},
   "outputs": [],
   "source": [
    "Arabic_Dialects_Translation_QA.to_csv(data_path+'QA_Arabic_Dialects_Translation_df.csv')"
   ]
  },
  {
   "cell_type": "code",
   "execution_count": 51,
   "metadata": {},
   "outputs": [],
   "source": [
    "import pandas as pd\n",
    "\n",
    "Lebanon_Uprising_Arabic_Tweets_df = pd.read_parquet(\"hf://datasets/arbml/Lebanon_Uprising_Arabic_Tweets/data/train-00000-of-00001.parquet\")"
   ]
  },
  {
   "cell_type": "code",
   "execution_count": 53,
   "metadata": {},
   "outputs": [],
   "source": [
    "Lebanon_Uprising_Arabic_Tweets_df = Lebanon_Uprising_Arabic_Tweets_df[Lebanon_Uprising_Arabic_Tweets_df.lang != 'en'].reset_index(drop=True)"
   ]
  },
  {
   "cell_type": "code",
   "execution_count": null,
   "metadata": {},
   "outputs": [],
   "source": [
    "Lebanon_Uprising_Arabic_Tweets_df.drop(columns=['created_at','retweet_count'\n",
    "                                                ,'favorite_count','in_reply_to_screen_name' \n",
    "                                                , 'source'\n",
    "                                                ,'lang',\n",
    "                                                'screen_name','retweeted_status_screen_name'\n",
    "                                                ,'user_description',\n",
    "                                                'id'], inplace=True)\n"
   ]
  },
  {
   "cell_type": "code",
   "execution_count": 62,
   "metadata": {},
   "outputs": [],
   "source": [
    "Lebanon_Uprising_Arabic_Tweets_df.to_csv(data_path+'LB_Lebanon_Uprising_Arabic_Tweets_df.csv')"
   ]
  },
  {
   "cell_type": "code",
   "execution_count": 63,
   "metadata": {},
   "outputs": [],
   "source": [
    "Syria_Tweet_Sentiment_df = pd.read_parquet(\"hf://datasets/arbml/Syria_Tweet_Sentiment/data/train-00000-of-00001.parquet\")"
   ]
  },
  {
   "cell_type": "code",
   "execution_count": 65,
   "metadata": {},
   "outputs": [],
   "source": [
    "Syria_Tweet_Sentiment_df.drop(columns=['Ar:man_confidence','id','label'],inplace=True)\n",
    "Syria_Tweet_Sentiment_df.rename(columns={'Arabic_txt':'text'},inplace=True)\n",
    "Syria_Tweet_Sentiment_df.to_csv(data_path+'SY_Syria_Tweet_Sentiment_df.csv')"
   ]
  },
  {
   "cell_type": "code",
   "execution_count": 78,
   "metadata": {},
   "outputs": [],
   "source": [
    "Tunisian_Derja_Dataset_ds = load_dataset(\"linagora/Tunisian_Derja_Dataset\", \"Derja_tunsi\")\n",
    "Tunisia_Derja_Dataset_df = Tunisian_Derja_Dataset_ds['train'].to_pandas()\n",
    "Tunisia_Derja_Dataset_df.to_csv(data_path+'TN_Tunisia_Derja_Derja_tunsi_Dataset_df.csv')"
   ]
  },
  {
   "cell_type": "code",
   "execution_count": 79,
   "metadata": {},
   "outputs": [],
   "source": [
    "Tunisian_Derja_ds = load_dataset(\"linagora/Tunisian_Derja_Dataset\", \"HkayetErwi\")\n",
    "Tunisian_Derja_df = Tunisian_Derja_ds['train'].to_pandas()\n",
    "Tunisian_Derja_df.to_csv(data_path+'TN_Tunisian_Derja_Dataset_HkayetErwi_df_.csv')"
   ]
  },
  {
   "cell_type": "code",
   "execution_count": 81,
   "metadata": {},
   "outputs": [
    {
     "name": "stderr",
     "output_type": "stream",
     "text": [
      "Generating train split: 100%|██████████| 30530/30530 [00:00<00:00, 2566174.37 examples/s]\n"
     ]
    }
   ],
   "source": [
    "Tunisian_Derja_TA_Segmentation_ds = load_dataset(\"linagora/Tunisian_Derja_Dataset\", \"TA_Segmentation\")\n",
    "Tunisian_Derja_TA_Segmentation_ds = Tunisian_Derja_TA_Segmentation_ds['train'].to_pandas()\n",
    "Tunisian_Derja_TA_Segmentation_ds.to_csv(data_path+'TN_Tunisian_Derja_Dataset_TA_Segmentation_df.csv')"
   ]
  },
  {
   "cell_type": "code",
   "execution_count": 101,
   "metadata": {},
   "outputs": [],
   "source": [
    "Sudanese_Dialect_Tweet_Tele_df = pd.read_parquet(\"hf://datasets/arbml/Sudanese_Dialect_Tweet_Tele/data/train-00000-of-00001.parquet\")\n",
    "Sudanese_Dialect_Tweet_Tele_df.rename(columns={'Tweet_Text':'text'},inplace=True)\n",
    "Sudanese_Dialect_Tweet_Tele_df.drop(columns=['Tweet_ID','Date','label'],inplace=True)\n",
    "Sudanese_Dialect_Tweet_Tele_df.to_csv(data_path+'SD_Sudanese_Dialect_Tweet_Tele_df.csv')"
   ]
  },
  {
   "cell_type": "code",
   "execution_count": 103,
   "metadata": {},
   "outputs": [],
   "source": [
    "Sudanese_Dialect_Tweet_df = pd.read_parquet(\"hf://datasets/arbml/Sudanese_Dialect_Tweet/data/train-00000-of-00001.parquet\")\n",
    "Sudanese_Dialect_Tweet_df.rename(columns={'Tweet_Text':'text'},inplace=True)\n",
    "Sudanese_Dialect_Tweet_df.drop(columns=['Annotator 1','Annotator 2','Annotator 3','Mode','Date'],inplace=True)\n",
    "Sudanese_Dialect_Tweet_df.to_csv(data_path+'SD_Sudanese_Dialect_Tweet_df.csv')"
   ]
  },
  {
   "cell_type": "code",
   "execution_count": 105,
   "metadata": {},
   "outputs": [
    {
     "name": "stderr",
     "output_type": "stream",
     "text": [
      "'(ReadTimeoutError(\"HTTPSConnectionPool(host='cdn-lfs.hf.co', port=443): Read timed out. (read timeout=10)\"), '(Request ID: 7b4609c8-0e89-4fc5-8ab1-11319c6cfe9f)')' thrown while requesting GET https://huggingface.co/datasets/arbml/Iraqi_Dialect/resolve/main/data/train-00000-of-00001-b62817d9c1b5fe67.parquet\n",
      "Retrying in 1s [Retry 1/5].\n"
     ]
    }
   ],
   "source": [
    "Iraqi_Dialect_df = pd.read_parquet(\"hf://datasets/arbml/Iraqi_Dialect/data/train-00000-of-00001-b62817d9c1b5fe67.parquet\")\n",
    "Iraqi_Dialect_df.drop(columns=['label','No.'],inplace=True)\n",
    "Iraqi_Dialect_df.rename(columns={'Tex':'text'},inplace=True)\n",
    "Iraqi_Dialect_df.to_csv(data_path+'IQ_Iraqi_Dialect_df.csv')"
   ]
  },
  {
   "cell_type": "code",
   "execution_count": 27,
   "metadata": {},
   "outputs": [],
   "source": [
    "import os"
   ]
  },
  {
   "cell_type": "code",
   "execution_count": 34,
   "metadata": {},
   "outputs": [],
   "source": [
    "l_df = []\n",
    "files_l = os.listdir('data_uae')"
   ]
  },
  {
   "cell_type": "code",
   "execution_count": 35,
   "metadata": {},
   "outputs": [],
   "source": [
    "for x in files_l:\n",
    "    l_df.append(pd.read_parquet('./data_uae/'+x).drop(columns=['audio']))"
   ]
  },
  {
   "cell_type": "code",
   "execution_count": 37,
   "metadata": {},
   "outputs": [],
   "source": [
    "combined_df = pd.concat(l_df, ignore_index=True)"
   ]
  },
  {
   "cell_type": "code",
   "execution_count": 39,
   "metadata": {},
   "outputs": [],
   "source": [
    "combined_df.to_csv(data_path+\"AE_UAE_100K_df.csv\")"
   ]
  },
  {
   "cell_type": "code",
   "execution_count": 9,
   "metadata": {},
   "outputs": [],
   "source": [
    "splits = {'train': 'data/train-00000-of-00001.parquet', 'v1': 'data/v1-00000-of-00001.parquet'}\n",
    "Algerian_Darija_df_train = pd.read_parquet(\"hf://datasets/ayoubkirouane/Algerian-Darija/\" + splits[\"train\"])\n",
    "Algerian_Darija_df_v1 = pd.read_parquet(\"hf://datasets/ayoubkirouane/Algerian-Darija/\" + splits[\"v1\"])"
   ]
  },
  {
   "cell_type": "code",
   "execution_count": 11,
   "metadata": {},
   "outputs": [],
   "source": [
    "Algerian_Darija_df = pd.concat([Algerian_Darija_df_train, Algerian_Darija_df_v1])\n",
    "Algerian_Darija_df.to_csv(data_path+'DZ_Algerian_Darija_df.csv')\n",
    "Algerian_Darija_df.rename(columns={'Text':'text'},inplace=True)"
   ]
  },
  {
   "cell_type": "code",
   "execution_count": null,
   "metadata": {},
   "outputs": [],
   "source": [
    "bahrain_corpus_all_shuff_sent = pd.read_csv('./bahrain_corpus_1.1.0/bahrain_corpus.all.shuffled.sent.1.1.0.tsv', sep='\\t')\n",
    "bahrain_corpus_all_shuff_sent.drop(columns = ['genre','line_id'],inplace = True)\n",
    "bahrain_corpus_all_shuff_sent.to_csv(data_path+'BH_bahrain_corpus_all_shuff_sent.csv')"
   ]
  },
  {
   "cell_type": "code",
   "execution_count": 13,
   "metadata": {},
   "outputs": [],
   "source": [
    "shami_df = pd.read_parquet(\"hf://datasets/arbml/Shami/data/train-00000-of-00001.parquet\")"
   ]
  },
  {
   "cell_type": "code",
   "execution_count": 21,
   "metadata": {},
   "outputs": [],
   "source": [
    "SY_shami_df = shami_df[shami_df.label == 0].reset_index(drop=True)\n",
    "SY_shami_df.drop(columns=['label'],inplace=True)\n",
    "SY_shami_df.to_csv(data_path+'SY_shami_df.csv')"
   ]
  },
  {
   "cell_type": "code",
   "execution_count": 22,
   "metadata": {},
   "outputs": [],
   "source": [
    "PL_shami_df = shami_df[shami_df.label == 1].reset_index(drop=True)\n",
    "PL_shami_df.drop(columns=['label'],inplace=True)\n",
    "PL_shami_df.to_csv(data_path+'PL_shami_df.csv')"
   ]
  },
  {
   "cell_type": "code",
   "execution_count": 23,
   "metadata": {},
   "outputs": [],
   "source": [
    "JO_shami_df = shami_df[shami_df.label == 2].reset_index(drop=True)\n",
    "JO_shami_df.drop(columns=['label'],inplace=True)\n",
    "JO_shami_df.to_csv(data_path+'JO_shami_df.csv')"
   ]
  },
  {
   "cell_type": "code",
   "execution_count": 24,
   "metadata": {},
   "outputs": [],
   "source": [
    "LB_shami_df = shami_df[shami_df.label == 3].reset_index(drop=True)\n",
    "LB_shami_df.drop(columns=['label'],inplace=True)\n",
    "LB_shami_df.to_csv(data_path+'LB_shami_df.csv')"
   ]
  },
  {
   "cell_type": "code",
   "execution_count": 25,
   "metadata": {},
   "outputs": [],
   "source": [
    "all_arab = pd.read_csv('huge_arabic_countries_data.csv')"
   ]
  },
  {
   "cell_type": "code",
   "execution_count": 27,
   "metadata": {},
   "outputs": [],
   "source": [
    "omani_df = pd.read_csv('OmaniArabicNMT_dataset.csv')"
   ]
  },
  {
   "cell_type": "code",
   "execution_count": 29,
   "metadata": {},
   "outputs": [],
   "source": [
    "omani_df = omani_df['target']"
   ]
  },
  {
   "cell_type": "code",
   "execution_count": 31,
   "metadata": {},
   "outputs": [],
   "source": [
    "omani_df.to_csv(data_path+'OM_omaniarabic.csv')"
   ]
  },
  {
   "cell_type": "code",
   "execution_count": 64,
   "metadata": {},
   "outputs": [],
   "source": [
    "sanaa_df = pd.read_csv('MADAR.corpus.Sanaa.TSV', sep='\\t', names=['text'])"
   ]
  },
  {
   "cell_type": "code",
   "execution_count": 65,
   "metadata": {},
   "outputs": [],
   "source": [
    "sanaa_df = sanaa_df.iloc[1:]"
   ]
  },
  {
   "cell_type": "code",
   "execution_count": 66,
   "metadata": {},
   "outputs": [],
   "source": [
    "list_sanaa = []"
   ]
  },
  {
   "cell_type": "code",
   "execution_count": 67,
   "metadata": {},
   "outputs": [
    {
     "name": "stderr",
     "output_type": "stream",
     "text": [
      "C:\\Users\\user\\AppData\\Local\\Temp\\ipykernel_26404\\1508297291.py:2: FutureWarning: Series.__getitem__ treating keys as positions is deprecated. In a future version, integer keys will always be treated as labels (consistent with DataFrame behavior). To access a value by position, use `ser.iloc[pos]`\n",
      "  list_sanaa.append(sanaa_df['text'][x])\n"
     ]
    }
   ],
   "source": [
    "for x in range(1,len(sanaa_df)):\n",
    "    list_sanaa.append(sanaa_df['text'][x])"
   ]
  },
  {
   "cell_type": "code",
   "execution_count": 69,
   "metadata": {},
   "outputs": [],
   "source": [
    "sanaa_df = pd.DataFrame(list_sanaa, columns=['text'])"
   ]
  },
  {
   "cell_type": "code",
   "execution_count": 72,
   "metadata": {},
   "outputs": [],
   "source": [
    "sanaa_df.to_csv(data_path+'YE_MADAR_df.csv')"
   ]
  }
 ],
 "metadata": {
  "kernelspec": {
   "display_name": ".venv",
   "language": "python",
   "name": "python3"
  },
  "language_info": {
   "codemirror_mode": {
    "name": "ipython",
    "version": 3
   },
   "file_extension": ".py",
   "mimetype": "text/x-python",
   "name": "python",
   "nbconvert_exporter": "python",
   "pygments_lexer": "ipython3",
   "version": "3.10.0"
  }
 },
 "nbformat": 4,
 "nbformat_minor": 2
}
