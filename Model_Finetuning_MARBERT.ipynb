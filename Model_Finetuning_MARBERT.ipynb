{
 "cells": [
  {
   "cell_type": "code",
   "execution_count": null,
   "metadata": {},
   "outputs": [],
   "source": [
    "from datasets import load_dataset\n",
    "from transformers import AutoModelForSeq2SeqLM, AutoModelForSequenceClassification, AutoTokenizer, GenerationConfig, TrainingArguments, Trainer\n",
    "import torch\n",
    "import time\n",
    "import evaluate\n",
    "import pandas as pd\n",
    "import numpy as np\n",
    "import nltk\n",
    "import re\n",
    "import matplotlib.pyplot as plt\n",
    "from sklearn.preprocessing import OneHotEncoder\n",
    "import string\n",
    "from nltk.corpus import stopwords\n",
    "from nltk.tokenize import word_tokenize\n",
    "from peft import LoraConfig, get_peft_model, TaskType\n",
    "from sklearn.model_selection import train_test_split"
   ]
  },
  {
   "cell_type": "code",
   "execution_count": null,
   "metadata": {},
   "outputs": [],
   "source": [
    "df = pd.read_csv('FINAL_data2.csv')\n",
    "df.drop(columns=['word_count'], inplace=True)\n",
    "df.rename(columns={'dialect': 'labels'}, inplace=True)"
   ]
  },
  {
   "cell_type": "code",
   "execution_count": null,
   "metadata": {},
   "outputs": [],
   "source": [
    "set(df.labels.values)"
   ]
  },
  {
   "cell_type": "code",
   "execution_count": null,
   "metadata": {},
   "outputs": [],
   "source": [
    "names={'Egyptian':0, 'Iraqi':1, 'Khaleeji':2, 'Levantine':3, 'Lybia':4, 'Maghrebi':5, 'Sudani':6}\n"
   ]
  },
  {
   "cell_type": "code",
   "execution_count": null,
   "metadata": {},
   "outputs": [],
   "source": [
    "df['labels'] = df['labels'].map(names)\n",
    "df['labels'] = df['labels'].astype('int')"
   ]
  },
  {
   "cell_type": "code",
   "execution_count": null,
   "metadata": {},
   "outputs": [],
   "source": [
    "train_texts, test_texts, train_labels, test_labels = train_test_split(\n",
    "    df['text'].tolist(),\n",
    "    df['labels'].tolist(),\n",
    "    test_size=0.1,\n",
    "    random_state=42,\n",
    "    stratify=df['labels']\n",
    "    , shuffle=True\n",
    ")\n",
    "\n",
    "train_texts, val_texts, train_labels, val_labels = train_test_split(\n",
    "    df['text'].tolist(),\n",
    "    df['labels'].tolist(),\n",
    "    test_size=0.1,\n",
    "    random_state=42,\n",
    "    stratify=df['labels']\n",
    "    , shuffle=True\n",
    ")"
   ]
  },
  {
   "cell_type": "code",
   "execution_count": null,
   "metadata": {},
   "outputs": [],
   "source": [
    "from datasets import Dataset, DatasetDict\n",
    "\n",
    "train_dataset = Dataset.from_dict({'text': train_texts, 'labels': train_labels})\n",
    "val_dataset = Dataset.from_dict({'text': val_texts, 'labels': val_labels})\n",
    "datasets = DatasetDict({\"train\": train_dataset, \"validation\": val_dataset})"
   ]
  },
  {
   "cell_type": "code",
   "execution_count": null,
   "metadata": {},
   "outputs": [],
   "source": [
    "araberttokenizer = AutoTokenizer.from_pretrained(\"UBC-NLP/MARBERTv2\")\n",
    "model = AutoModelForSequenceClassification.from_pretrained(\"UBC-NLP/MARBERTv2\", num_labels=7)"
   ]
  },
  {
   "cell_type": "code",
   "execution_count": null,
   "metadata": {},
   "outputs": [],
   "source": [
    "lora_config = LoraConfig(\n",
    "    r=16,                        # Low-rank factor\n",
    "    lora_alpha=16,              # Scaling\n",
    "    target_modules=[\"query\",\"key\",\"value\",\"dense\"],\n",
    "    lora_dropout=0.2,               # Common for BERT attention layers # Regularization\n",
    "    bias=\"none\",\n",
    "    task_type=TaskType.SEQ_CLS # For classification\n",
    ")\n",
    "peft_model = get_peft_model(model, \n",
    "                            lora_config)"
   ]
  },
  {
   "cell_type": "code",
   "execution_count": null,
   "metadata": {},
   "outputs": [],
   "source": [
    "# Tokenize all text entries\n",
    "tokenized_inputs = araberttokenizer(\n",
    "    list(train_dataset['text']),    \n",
    "    padding=True,\n",
    "    max_length=16,                       \n",
    "    truncation=False,                     \n",
    "    return_tensors='pt'                   \n",
    ")\n",
    "labels = torch.tensor(train_dataset['labels'])"
   ]
  },
  {
   "cell_type": "code",
   "execution_count": null,
   "metadata": {},
   "outputs": [],
   "source": [
    "tokenized_inputs_val = araberttokenizer(\n",
    "    list(val_dataset['text']),                   \n",
    "    padding=True,      \n",
    "    max_length=16,                  \n",
    "    truncation=False,                     \n",
    "    return_tensors='pt'                    \n",
    ")\n",
    "labels_val = torch.tensor(val_dataset['labels'])"
   ]
  },
  {
   "cell_type": "code",
   "execution_count": null,
   "metadata": {},
   "outputs": [],
   "source": [
    "from torch.utils.data import Dataset\n",
    "\n",
    "class BERTDataset(Dataset):\n",
    "    def __init__(self, encodings, labels):\n",
    "        self.encodings = encodings\n",
    "        self.labels = labels\n",
    "\n",
    "    def __len__(self):\n",
    "        return len(self.labels)\n",
    "\n",
    "    def __getitem__(self, idx):\n",
    "        item = {key: val[idx] for key, val in self.encodings.items()}\n",
    "        item['labels'] = self.labels[idx]\n",
    "        return item\n"
   ]
  },
  {
   "cell_type": "code",
   "execution_count": null,
   "metadata": {},
   "outputs": [],
   "source": [
    "dataset = BERTDataset(tokenized_inputs, labels)\n",
    "val_dataset = BERTDataset(tokenized_inputs_val, labels_val)"
   ]
  },
  {
   "cell_type": "code",
   "execution_count": 28,
   "metadata": {},
   "outputs": [
    {
     "name": "stderr",
     "output_type": "stream",
     "text": [
      "d:\\LLMS\\.venv\\lib\\site-packages\\transformers\\tokenization_utils_base.py:2364: UserWarning: `max_length` is ignored when `padding`=`True` and there is no truncation strategy. To pad to max length, use `padding='max_length'`.\n",
      "  warnings.warn(\n"
     ]
    }
   ],
   "source": [
    "test_dataset = BERTDataset(\n",
    "    araberttokenizer(\n",
    "        list(test_texts),                   \n",
    "        padding=True,      \n",
    "        max_length=16,                  \n",
    "        truncation=False,                     \n",
    "        return_tensors='pt'                    \n",
    "    ),\n",
    "    test_labels\n",
    ")"
   ]
  },
  {
   "cell_type": "code",
   "execution_count": null,
   "metadata": {},
   "outputs": [],
   "source": [
    "peft_model = get_peft_model(model, \n",
    "                            lora_config)"
   ]
  },
  {
   "cell_type": "code",
   "execution_count": null,
   "metadata": {},
   "outputs": [],
   "source": [
    "from sklearn.metrics import accuracy_score, f1_score\n",
    "\n",
    "def compute_metrics(eval_pred):\n",
    "    logits, labels = eval_pred\n",
    "    predictions = torch.tensor(logits).argmax(dim=-1)\n",
    "    return {\n",
    "        \"accuracy\": accuracy_score(labels, predictions),\n",
    "    }"
   ]
  },
  {
   "cell_type": "code",
   "execution_count": null,
   "metadata": {},
   "outputs": [],
   "source": [
    "from transformers import EarlyStoppingCallback\n",
    "\n",
    "early_stopping = EarlyStoppingCallback(\n",
    "    early_stopping_patience=2\n",
    ")"
   ]
  },
  {
   "cell_type": "code",
   "execution_count": null,
   "metadata": {},
   "outputs": [],
   "source": [
    "peft_training_args = TrainingArguments(\n",
    "    output_dir=\"./Forth_trial/model\",\n",
    "    auto_find_batch_size=True,\n",
    "    learning_rate=5e-4,\n",
    "    per_device_train_batch_size=16,\n",
    "    per_device_eval_batch_size=16,\n",
    "    num_train_epochs=4,\n",
    "    weight_decay=0.01,\n",
    "    evaluation_strategy=\"epoch\",\n",
    "    save_strategy=\"epoch\",\n",
    "    save_total_limit=2,\n",
    "    load_best_model_at_end=True,\n",
    "    metric_for_best_model=\"accuracy\",\n",
    "    logging_steps=50,\n",
    "    fp16=True  \n",
    ")\n",
    "    \n",
    "peft_trainer = Trainer(\n",
    "    model=peft_model,\n",
    "    args=peft_training_args,\n",
    "    train_dataset=dataset,\n",
    "    eval_dataset=val_dataset,\n",
    "    compute_metrics=compute_metrics,\n",
    "    callbacks=[early_stopping]\n",
    ")"
   ]
  },
  {
   "cell_type": "code",
   "execution_count": 24,
   "metadata": {},
   "outputs": [
    {
     "name": "stderr",
     "output_type": "stream",
     "text": [
      " 94%|█████████▍| 26701/28332 [1:13:19<03:28,  7.83it/s]"
     ]
    },
    {
     "name": "stdout",
     "output_type": "stream",
     "text": [
      "{'loss': 0.5048, 'learning_rate': 2.8995482140336017e-05, 'epoch': 3.77}\n"
     ]
    },
    {
     "name": "stderr",
     "output_type": "stream",
     "text": [
      " 94%|█████████▍| 26751/28332 [1:13:24<02:48,  9.36it/s]"
     ]
    },
    {
     "name": "stdout",
     "output_type": "stream",
     "text": [
      "{'loss': 0.4555, 'learning_rate': 2.8113087674714107e-05, 'epoch': 3.78}\n"
     ]
    },
    {
     "name": "stderr",
     "output_type": "stream",
     "text": [
      " 95%|█████████▍| 26800/28332 [1:13:30<03:31,  7.23it/s]"
     ]
    },
    {
     "name": "stdout",
     "output_type": "stream",
     "text": [
      "{'loss': 0.4677, 'learning_rate': 2.723069320909219e-05, 'epoch': 3.78}\n"
     ]
    },
    {
     "name": "stderr",
     "output_type": "stream",
     "text": [
      " 95%|█████████▍| 26850/28332 [1:13:45<08:09,  3.03it/s]"
     ]
    },
    {
     "name": "stdout",
     "output_type": "stream",
     "text": [
      "{'loss': 0.4799, 'learning_rate': 2.6348298743470282e-05, 'epoch': 3.79}\n"
     ]
    },
    {
     "name": "stderr",
     "output_type": "stream",
     "text": [
      " 95%|█████████▍| 26900/28332 [1:13:58<06:45,  3.53it/s]"
     ]
    },
    {
     "name": "stdout",
     "output_type": "stream",
     "text": [
      "{'loss': 0.5374, 'learning_rate': 2.548355216716081e-05, 'epoch': 3.8}\n"
     ]
    },
    {
     "name": "stderr",
     "output_type": "stream",
     "text": [
      " 95%|█████████▌| 26950/28332 [1:14:12<06:44,  3.42it/s]"
     ]
    },
    {
     "name": "stdout",
     "output_type": "stream",
     "text": [
      "{'loss': 0.5169, 'learning_rate': 2.4601157701538894e-05, 'epoch': 3.8}\n"
     ]
    },
    {
     "name": "stderr",
     "output_type": "stream",
     "text": [
      " 95%|█████████▌| 27000/28332 [1:14:26<06:09,  3.60it/s]"
     ]
    },
    {
     "name": "stdout",
     "output_type": "stream",
     "text": [
      "{'loss': 0.5139, 'learning_rate': 2.3718763235916985e-05, 'epoch': 3.81}\n"
     ]
    },
    {
     "name": "stderr",
     "output_type": "stream",
     "text": [
      " 95%|█████████▌| 27050/28332 [1:14:39<05:13,  4.08it/s]"
     ]
    },
    {
     "name": "stdout",
     "output_type": "stream",
     "text": [
      "{'loss': 0.4984, 'learning_rate': 2.2836368770295075e-05, 'epoch': 3.82}\n"
     ]
    },
    {
     "name": "stderr",
     "output_type": "stream",
     "text": [
      " 96%|█████████▌| 27100/28332 [1:14:53<05:12,  3.94it/s]"
     ]
    },
    {
     "name": "stdout",
     "output_type": "stream",
     "text": [
      "{'loss': 0.4526, 'learning_rate': 2.1953974304673163e-05, 'epoch': 3.83}\n"
     ]
    },
    {
     "name": "stderr",
     "output_type": "stream",
     "text": [
      " 96%|█████████▌| 27150/28332 [1:15:06<05:49,  3.39it/s]"
     ]
    },
    {
     "name": "stdout",
     "output_type": "stream",
     "text": [
      "{'loss': 0.4936, 'learning_rate': 2.107157983905125e-05, 'epoch': 3.83}\n"
     ]
    },
    {
     "name": "stderr",
     "output_type": "stream",
     "text": [
      " 96%|█████████▌| 27200/28332 [1:15:21<05:33,  3.39it/s]"
     ]
    },
    {
     "name": "stdout",
     "output_type": "stream",
     "text": [
      "{'loss': 0.4115, 'learning_rate': 2.0189185373429337e-05, 'epoch': 3.84}\n"
     ]
    },
    {
     "name": "stderr",
     "output_type": "stream",
     "text": [
      " 96%|█████████▌| 27250/28332 [1:15:38<07:00,  2.57it/s]"
     ]
    },
    {
     "name": "stdout",
     "output_type": "stream",
     "text": [
      "{'loss': 0.4226, 'learning_rate': 1.9306790907807428e-05, 'epoch': 3.85}\n"
     ]
    },
    {
     "name": "stderr",
     "output_type": "stream",
     "text": [
      " 96%|█████████▋| 27300/28332 [1:15:55<05:22,  3.20it/s]"
     ]
    },
    {
     "name": "stdout",
     "output_type": "stream",
     "text": [
      "{'loss': 0.4837, 'learning_rate': 1.8424396442185512e-05, 'epoch': 3.85}\n"
     ]
    },
    {
     "name": "stderr",
     "output_type": "stream",
     "text": [
      " 97%|█████████▋| 27350/28332 [1:16:15<07:24,  2.21it/s]"
     ]
    },
    {
     "name": "stdout",
     "output_type": "stream",
     "text": [
      "{'loss': 0.4476, 'learning_rate': 1.7542001976563602e-05, 'epoch': 3.86}\n"
     ]
    },
    {
     "name": "stderr",
     "output_type": "stream",
     "text": [
      " 97%|█████████▋| 27400/28332 [1:16:36<06:03,  2.56it/s]"
     ]
    },
    {
     "name": "stdout",
     "output_type": "stream",
     "text": [
      "{'loss': 0.4667, 'learning_rate': 1.6659607510941693e-05, 'epoch': 3.87}\n"
     ]
    },
    {
     "name": "stderr",
     "output_type": "stream",
     "text": [
      " 97%|█████████▋| 27450/28332 [1:16:55<05:44,  2.56it/s]"
     ]
    },
    {
     "name": "stdout",
     "output_type": "stream",
     "text": [
      "{'loss': 0.4266, 'learning_rate': 1.577721304531978e-05, 'epoch': 3.88}\n"
     ]
    },
    {
     "name": "stderr",
     "output_type": "stream",
     "text": [
      " 97%|█████████▋| 27500/28332 [1:17:12<05:21,  2.59it/s]"
     ]
    },
    {
     "name": "stdout",
     "output_type": "stream",
     "text": [
      "{'loss': 0.4612, 'learning_rate': 1.489481857969787e-05, 'epoch': 3.88}\n"
     ]
    },
    {
     "name": "stderr",
     "output_type": "stream",
     "text": [
      " 97%|█████████▋| 27551/28332 [1:17:25<01:24,  9.24it/s]"
     ]
    },
    {
     "name": "stdout",
     "output_type": "stream",
     "text": [
      "{'loss': 0.4193, 'learning_rate': 1.4012424114075957e-05, 'epoch': 3.89}\n"
     ]
    },
    {
     "name": "stderr",
     "output_type": "stream",
     "text": [
      " 97%|█████████▋| 27600/28332 [1:17:31<03:27,  3.53it/s]"
     ]
    },
    {
     "name": "stdout",
     "output_type": "stream",
     "text": [
      "{'loss': 0.4735, 'learning_rate': 1.3130029648454046e-05, 'epoch': 3.9}\n"
     ]
    },
    {
     "name": "stderr",
     "output_type": "stream",
     "text": [
      " 98%|█████████▊| 27650/28332 [1:17:45<03:10,  3.58it/s]"
     ]
    },
    {
     "name": "stdout",
     "output_type": "stream",
     "text": [
      "{'loss': 0.4545, 'learning_rate': 1.2247635182832133e-05, 'epoch': 3.9}\n"
     ]
    },
    {
     "name": "stderr",
     "output_type": "stream",
     "text": [
      " 98%|█████████▊| 27700/28332 [1:17:59<03:07,  3.37it/s]"
     ]
    },
    {
     "name": "stdout",
     "output_type": "stream",
     "text": [
      "{'loss': 0.4931, 'learning_rate': 1.1365240717210222e-05, 'epoch': 3.91}\n"
     ]
    },
    {
     "name": "stderr",
     "output_type": "stream",
     "text": [
      " 98%|█████████▊| 27750/28332 [1:18:13<02:45,  3.53it/s]"
     ]
    },
    {
     "name": "stdout",
     "output_type": "stream",
     "text": [
      "{'loss': 0.5503, 'learning_rate': 1.048284625158831e-05, 'epoch': 3.92}\n"
     ]
    },
    {
     "name": "stderr",
     "output_type": "stream",
     "text": [
      " 98%|█████████▊| 27801/28332 [1:18:27<02:20,  3.78it/s]"
     ]
    },
    {
     "name": "stdout",
     "output_type": "stream",
     "text": [
      "{'loss': 0.3909, 'learning_rate': 9.6004517859664e-06, 'epoch': 3.92}\n"
     ]
    },
    {
     "name": "stderr",
     "output_type": "stream",
     "text": [
      " 98%|█████████▊| 27850/28332 [1:18:40<02:07,  3.78it/s]"
     ]
    },
    {
     "name": "stdout",
     "output_type": "stream",
     "text": [
      "{'loss': 0.5114, 'learning_rate': 8.718057320344487e-06, 'epoch': 3.93}\n"
     ]
    },
    {
     "name": "stderr",
     "output_type": "stream",
     "text": [
      " 98%|█████████▊| 27900/28332 [1:18:53<01:52,  3.83it/s]"
     ]
    },
    {
     "name": "stdout",
     "output_type": "stream",
     "text": [
      "{'loss': 0.4028, 'learning_rate': 7.835662854722576e-06, 'epoch': 3.94}\n"
     ]
    },
    {
     "name": "stderr",
     "output_type": "stream",
     "text": [
      " 99%|█████████▊| 27950/28332 [1:19:07<01:51,  3.42it/s]"
     ]
    },
    {
     "name": "stdout",
     "output_type": "stream",
     "text": [
      "{'loss': 0.4616, 'learning_rate': 6.9532683891006635e-06, 'epoch': 3.95}\n"
     ]
    },
    {
     "name": "stderr",
     "output_type": "stream",
     "text": [
      " 99%|█████████▉| 28000/28332 [1:19:22<01:34,  3.53it/s]"
     ]
    },
    {
     "name": "stdout",
     "output_type": "stream",
     "text": [
      "{'loss': 0.5568, 'learning_rate': 6.070873923478752e-06, 'epoch': 3.95}\n"
     ]
    },
    {
     "name": "stderr",
     "output_type": "stream",
     "text": [
      " 99%|█████████▉| 28050/28332 [1:19:36<01:07,  4.17it/s]"
     ]
    },
    {
     "name": "stdout",
     "output_type": "stream",
     "text": [
      "{'loss': 0.4149, 'learning_rate': 5.188479457856841e-06, 'epoch': 3.96}\n"
     ]
    },
    {
     "name": "stderr",
     "output_type": "stream",
     "text": [
      " 99%|█████████▉| 28100/28332 [1:19:50<01:14,  3.13it/s]"
     ]
    },
    {
     "name": "stdout",
     "output_type": "stream",
     "text": [
      "{'loss': 0.4226, 'learning_rate': 4.306084992234929e-06, 'epoch': 3.97}\n"
     ]
    },
    {
     "name": "stderr",
     "output_type": "stream",
     "text": [
      " 99%|█████████▉| 28150/28332 [1:20:05<00:49,  3.71it/s]"
     ]
    },
    {
     "name": "stdout",
     "output_type": "stream",
     "text": [
      "{'loss': 0.4241, 'learning_rate': 3.4236905266130173e-06, 'epoch': 3.97}\n"
     ]
    },
    {
     "name": "stderr",
     "output_type": "stream",
     "text": [
      "100%|█████████▉| 28200/28332 [1:20:20<00:41,  3.18it/s]"
     ]
    },
    {
     "name": "stdout",
     "output_type": "stream",
     "text": [
      "{'loss': 0.4381, 'learning_rate': 2.5412960609911054e-06, 'epoch': 3.98}\n"
     ]
    },
    {
     "name": "stderr",
     "output_type": "stream",
     "text": [
      "100%|█████████▉| 28250/28332 [1:20:36<00:26,  3.13it/s]"
     ]
    },
    {
     "name": "stdout",
     "output_type": "stream",
     "text": [
      "{'loss': 0.4353, 'learning_rate': 1.6589015953691938e-06, 'epoch': 3.99}\n"
     ]
    },
    {
     "name": "stderr",
     "output_type": "stream",
     "text": [
      "100%|█████████▉| 28300/28332 [1:20:52<00:10,  2.96it/s]"
     ]
    },
    {
     "name": "stdout",
     "output_type": "stream",
     "text": [
      "{'loss': 0.5333, 'learning_rate': 7.765071297472822e-07, 'epoch': 4.0}\n"
     ]
    },
    {
     "name": "stderr",
     "output_type": "stream",
     "text": [
      "                                                       \n",
      "100%|██████████| 28332/28332 [1:22:07<00:00,  3.46it/s]"
     ]
    },
    {
     "name": "stdout",
     "output_type": "stream",
     "text": [
      "{'eval_loss': 0.6814919114112854, 'eval_accuracy': 0.7920273167632812, 'eval_runtime': 65.4518, 'eval_samples_per_second': 192.401, 'eval_steps_per_second': 12.039, 'epoch': 4.0}\n"
     ]
    },
    {
     "name": "stderr",
     "output_type": "stream",
     "text": [
      "100%|██████████| 28332/28332 [1:22:09<00:00,  5.75it/s]"
     ]
    },
    {
     "name": "stdout",
     "output_type": "stream",
     "text": [
      "{'train_runtime': 4929.3666, 'train_samples_per_second': 91.962, 'train_steps_per_second': 5.748, 'train_loss': 0.6376093878982331, 'epoch': 4.0}\n"
     ]
    },
    {
     "name": "stderr",
     "output_type": "stream",
     "text": [
      "\n"
     ]
    },
    {
     "data": {
      "text/plain": [
       "TrainOutput(global_step=28332, training_loss=0.6376093878982331, metrics={'train_runtime': 4929.3666, 'train_samples_per_second': 91.962, 'train_steps_per_second': 5.748, 'train_loss': 0.6376093878982331, 'epoch': 4.0})"
      ]
     },
     "execution_count": 24,
     "metadata": {},
     "output_type": "execute_result"
    }
   ],
   "source": [
    "peft_trainer.train()"
   ]
  },
  {
   "cell_type": "code",
   "execution_count": 25,
   "metadata": {},
   "outputs": [],
   "source": [
    "model.save_pretrained(\"final_model\")"
   ]
  },
  {
   "cell_type": "code",
   "execution_count": 26,
   "metadata": {},
   "outputs": [
    {
     "data": {
      "text/plain": [
       "('final_model\\\\tokenizer_config.json',\n",
       " 'final_model\\\\special_tokens_map.json',\n",
       " 'final_model\\\\vocab.txt',\n",
       " 'final_model\\\\added_tokens.json',\n",
       " 'final_model\\\\tokenizer.json')"
      ]
     },
     "execution_count": 26,
     "metadata": {},
     "output_type": "execute_result"
    }
   ],
   "source": [
    "peft_model.save_pretrained(\"final_model\")\n",
    "araberttokenizer.save_pretrained(\"final_model\")"
   ]
  },
  {
   "cell_type": "code",
   "execution_count": 27,
   "metadata": {},
   "outputs": [
    {
     "name": "stdout",
     "output_type": "stream",
     "text": [
      "Predicted dialect: Sudani\n"
     ]
    }
   ],
   "source": [
    "input_text = \"\"\"\n",
    "يزول شغال انت ولا لا \n",
    "\"\"\"\n",
    "inputs = araberttokenizer(\n",
    "    input_text,\n",
    "    return_tensors=\"pt\",\n",
    "    padding=True,\n",
    "    max_length=20,\n",
    "    truncation=True,\n",
    ")\n",
    "inputs = inputs.to(peft_model.device)\n",
    "with torch.no_grad():\n",
    "    outputs = peft_model(**inputs)\n",
    "    logits = outputs.logits\n",
    "    predictions = torch.argmax(logits, dim=-1)\n",
    "names2 = {v: k for k, v in names.items()}\n",
    "predicted_label = names2[predictions.item()]\n",
    "print(f\"Predicted dialect: {predicted_label}\")"
   ]
  },
  {
   "cell_type": "markdown",
   "metadata": {},
   "source": [
    "# Model Analysis"
   ]
  },
  {
   "cell_type": "code",
   "execution_count": null,
   "metadata": {},
   "outputs": [
    {
     "name": "stderr",
     "output_type": "stream",
     "text": [
      "d:\\LLMS\\.venv\\lib\\site-packages\\transformers\\trainer.py:2610: FutureWarning: `torch.cuda.amp.autocast(args...)` is deprecated. Please use `torch.amp.autocast('cuda', args...)` instead.\n",
      "  else torch.cuda.amp.autocast(cache_enabled=cache_enabled, dtype=self.amp_dtype)\n",
      "100%|██████████| 788/788 [00:25<00:00, 30.34it/s]\n"
     ]
    }
   ],
   "source": [
    "p = peft_trainer.predict(test_dataset)\n",
    "predicted_test = torch.tensor(p.predictions).argmax(dim=-1)"
   ]
  },
  {
   "cell_type": "code",
   "execution_count": 32,
   "metadata": {},
   "outputs": [
    {
     "name": "stderr",
     "output_type": "stream",
     "text": [
      "d:\\LLMS\\.venv\\lib\\site-packages\\transformers\\trainer.py:2610: FutureWarning: `torch.cuda.amp.autocast(args...)` is deprecated. Please use `torch.amp.autocast('cuda', args...)` instead.\n",
      "  else torch.cuda.amp.autocast(cache_enabled=cache_enabled, dtype=self.amp_dtype)\n",
      "100%|██████████| 7083/7083 [06:44<00:00, 17.51it/s]\n"
     ]
    }
   ],
   "source": [
    "p = peft_trainer.predict(dataset)\n",
    "predicted_train = torch.tensor(p.predictions).argmax(dim=-1)"
   ]
  },
  {
   "cell_type": "code",
   "execution_count": 35,
   "metadata": {},
   "outputs": [],
   "source": [
    "predictions_test_df = pd.DataFrame({\n",
    "    'true_labels': test_labels, \n",
    "    'predicted_labels': predicted_test.tolist() \n",
    "})\n",
    "\n",
    "predictions_train_df = pd.DataFrame({\n",
    "    'true_labels': train_labels,         \n",
    "    'predicted_labels': predicted_train.tolist()     \n",
    "})"
   ]
  },
  {
   "cell_type": "code",
   "execution_count": 36,
   "metadata": {},
   "outputs": [
    {
     "name": "stdout",
     "output_type": "stream",
     "text": [
      "Validation Accuracy: 0.7920\n",
      "Training Accuracy: 0.8927\n"
     ]
    }
   ],
   "source": [
    "# acc \n",
    "accuracy = accuracy_score(predictions_test_df['true_labels'], predictions_test_df['predicted_labels'])\n",
    "print(f\"Validation Accuracy: {accuracy:.4f}\")\n",
    "accuracy = accuracy_score(predictions_train_df['true_labels'], predictions_train_df['predicted_labels'])\n",
    "print(f\"Training Accuracy: {accuracy:.4f}\")"
   ]
  },
  {
   "cell_type": "code",
   "execution_count": 37,
   "metadata": {},
   "outputs": [],
   "source": [
    "predictions_test_df.to_csv('Final_predictions_test_df.csv', index=False)\n",
    "predictions_train_df.to_csv('Final_predictions_train_df.csv', index=False)"
   ]
  },
  {
   "cell_type": "code",
   "execution_count": 38,
   "metadata": {},
   "outputs": [],
   "source": [
    "predictions_train_df['text'] = train_texts\n",
    "predictions_test_df['text'] = val_texts\n",
    "predictions_test_df['word_count'] = predictions_test_df['text'].apply(lambda x: len(x.split()))\n",
    "predictions_train_df['word_count'] = predictions_train_df['text'].apply(lambda x: len(x.split()))"
   ]
  },
  {
   "cell_type": "code",
   "execution_count": 39,
   "metadata": {},
   "outputs": [
    {
     "data": {
      "text/html": [
       "<div>\n",
       "<style scoped>\n",
       "    .dataframe tbody tr th:only-of-type {\n",
       "        vertical-align: middle;\n",
       "    }\n",
       "\n",
       "    .dataframe tbody tr th {\n",
       "        vertical-align: top;\n",
       "    }\n",
       "\n",
       "    .dataframe thead th {\n",
       "        text-align: right;\n",
       "    }\n",
       "</style>\n",
       "<table border=\"1\" class=\"dataframe\">\n",
       "  <thead>\n",
       "    <tr style=\"text-align: right;\">\n",
       "      <th></th>\n",
       "      <th>true_labels</th>\n",
       "      <th>predicted_labels</th>\n",
       "      <th>text</th>\n",
       "      <th>word_count</th>\n",
       "    </tr>\n",
       "  </thead>\n",
       "  <tbody>\n",
       "    <tr>\n",
       "      <th>5</th>\n",
       "      <td>3</td>\n",
       "      <td>1</td>\n",
       "      <td>بمصحات علاجيه مو يبلونا بمناظرهم المقزه</td>\n",
       "      <td>6</td>\n",
       "    </tr>\n",
       "    <tr>\n",
       "      <th>7</th>\n",
       "      <td>4</td>\n",
       "      <td>5</td>\n",
       "      <td>الخال الورشفاني مديريه امن جفاره المدعو ناصر ا...</td>\n",
       "      <td>14</td>\n",
       "    </tr>\n",
       "    <tr>\n",
       "      <th>8</th>\n",
       "      <td>6</td>\n",
       "      <td>1</td>\n",
       "      <td>ابل الضحك تقولي شنو جلابه وشريت نيلي وحقنا ماكول</td>\n",
       "      <td>9</td>\n",
       "    </tr>\n",
       "    <tr>\n",
       "      <th>21</th>\n",
       "      <td>1</td>\n",
       "      <td>2</td>\n",
       "      <td>نتفق وقت الخاص ويصير خير</td>\n",
       "      <td>5</td>\n",
       "    </tr>\n",
       "    <tr>\n",
       "      <th>26</th>\n",
       "      <td>6</td>\n",
       "      <td>0</td>\n",
       "      <td>كده غريب يتعلق بالحيوانات والاسماك</td>\n",
       "      <td>5</td>\n",
       "    </tr>\n",
       "    <tr>\n",
       "      <th>...</th>\n",
       "      <td>...</td>\n",
       "      <td>...</td>\n",
       "      <td>...</td>\n",
       "      <td>...</td>\n",
       "    </tr>\n",
       "    <tr>\n",
       "      <th>12569</th>\n",
       "      <td>1</td>\n",
       "      <td>4</td>\n",
       "      <td>خفوا التشريب منين تجيكم لياقه شهالكروش</td>\n",
       "      <td>6</td>\n",
       "    </tr>\n",
       "    <tr>\n",
       "      <th>12574</th>\n",
       "      <td>3</td>\n",
       "      <td>6</td>\n",
       "      <td>بالعكس برضو نومه الارض حلوه</td>\n",
       "      <td>5</td>\n",
       "    </tr>\n",
       "    <tr>\n",
       "      <th>12583</th>\n",
       "      <td>2</td>\n",
       "      <td>1</td>\n",
       "      <td>غاب وغاب الفوز اختصار الموسم وهذا موعذر ابدا ش...</td>\n",
       "      <td>12</td>\n",
       "    </tr>\n",
       "    <tr>\n",
       "      <th>12590</th>\n",
       "      <td>3</td>\n",
       "      <td>2</td>\n",
       "      <td>الاوروبين وليش ضربوهم جزيره ليروس يومين</td>\n",
       "      <td>6</td>\n",
       "    </tr>\n",
       "    <tr>\n",
       "      <th>12592</th>\n",
       "      <td>5</td>\n",
       "      <td>2</td>\n",
       "      <td>حمداله لاعب قوي عنده ثقه عجيبه الجراه الي يملك...</td>\n",
       "      <td>14</td>\n",
       "    </tr>\n",
       "  </tbody>\n",
       "</table>\n",
       "<p>2619 rows × 4 columns</p>\n",
       "</div>"
      ],
      "text/plain": [
       "       true_labels  predicted_labels  \\\n",
       "5                3                 1   \n",
       "7                4                 5   \n",
       "8                6                 1   \n",
       "21               1                 2   \n",
       "26               6                 0   \n",
       "...            ...               ...   \n",
       "12569            1                 4   \n",
       "12574            3                 6   \n",
       "12583            2                 1   \n",
       "12590            3                 2   \n",
       "12592            5                 2   \n",
       "\n",
       "                                                    text  word_count  \n",
       "5                بمصحات علاجيه مو يبلونا بمناظرهم المقزه           6  \n",
       "7      الخال الورشفاني مديريه امن جفاره المدعو ناصر ا...          14  \n",
       "8       ابل الضحك تقولي شنو جلابه وشريت نيلي وحقنا ماكول           9  \n",
       "21                              نتفق وقت الخاص ويصير خير           5  \n",
       "26                    كده غريب يتعلق بالحيوانات والاسماك           5  \n",
       "...                                                  ...         ...  \n",
       "12569             خفوا التشريب منين تجيكم لياقه شهالكروش           6  \n",
       "12574                        بالعكس برضو نومه الارض حلوه           5  \n",
       "12583  غاب وغاب الفوز اختصار الموسم وهذا موعذر ابدا ش...          12  \n",
       "12590            الاوروبين وليش ضربوهم جزيره ليروس يومين           6  \n",
       "12592  حمداله لاعب قوي عنده ثقه عجيبه الجراه الي يملك...          14  \n",
       "\n",
       "[2619 rows x 4 columns]"
      ]
     },
     "execution_count": 39,
     "metadata": {},
     "output_type": "execute_result"
    }
   ],
   "source": [
    "incorrect = predictions_test_df[predictions_test_df.true_labels != predictions_test_df.predicted_labels]\n",
    "incorrect"
   ]
  },
  {
   "cell_type": "code",
   "execution_count": null,
   "metadata": {
    "vscode": {
     "languageId": "r"
    }
   },
   "outputs": [
    {
     "data": {
      "text/plain": [
       "<Axes: >"
      ]
     },
     "execution_count": 40,
     "metadata": {},
     "output_type": "execute_result"
    },
    {
     "data": {
      "image/png": "[encoded data removed]",
      "text/plain": [
       "<Figure size 640x480 with 1 Axes>"
      ]
     },
     "metadata": {},
     "output_type": "display_data"
    }
   ],
   "source": [
    "incorrect.word_count.hist(bins=20)"
   ]
  },
  {
   "cell_type": "code",
   "execution_count": 46,
   "metadata": {},
   "outputs": [
    {
     "name": "stdout",
     "output_type": "stream",
     "text": [
      "WordCount: 14, % of WordCount: 14.21%, % of error in this WordCount: 15.73%\n",
      "WordCount: 5, % of WordCount: 5.43%, % of error in this WordCount: 29.84%\n",
      "WordCount: 6, % of WordCount: 4.52%, % of error in this WordCount: 27.24%\n",
      "WordCount: 7, % of WordCount: 3.70%, % of error in this WordCount: 26.21%\n",
      "WordCount: 8, % of WordCount: 3.37%, % of error in this WordCount: 21.73%\n",
      "WordCount: 9, % of WordCount: 2.58%, % of error in this WordCount: 19.62%\n",
      "WordCount: 10, % of WordCount: 2.19%, % of error in this WordCount: 18.18%\n",
      "WordCount: 11, % of WordCount: 2.01%, % of error in this WordCount: 15.42%\n",
      "WordCount: 12, % of WordCount: 1.65%, % of error in this WordCount: 18.18%\n",
      "WordCount: 13, % of WordCount: 1.48%, % of error in this WordCount: 17.00%\n"
     ]
    }
   ],
   "source": [
    "d = predictions_test_df.value_counts('word_count')\n",
    "for key, value in incorrect.word_count.value_counts().items():\n",
    "    print(f\"WordCount: {key}, % of WordCount: {d[key]/30600*100:.2f}%, % of error in this WordCount: {value/d[key]*100:.2f}%\")\n",
    "    \n"
   ]
  },
  {
   "cell_type": "code",
   "execution_count": 51,
   "metadata": {},
   "outputs": [
    {
     "data": {
      "image/png": "[encoded data removed]",
      "text/plain": [
       "<Figure size 1000x600 with 1 Axes>"
      ]
     },
     "metadata": {},
     "output_type": "display_data"
    }
   ],
   "source": [
    "plt.figure(figsize=(10, 6))\n",
    "total_counts = [d.get(wc, 0) for wc in word_counts]\n",
    "incorrect_counts = [incorrect.word_count.value_counts().get(wc, 0) for wc in word_counts]\n",
    "\n",
    "bars1 = plt.bar(word_counts, total_counts, color='blue', alpha=0.6, label='Total Samples')\n",
    "bars2 = plt.bar(word_counts, incorrect_counts, color='red', alpha=0.6, label='Incorrect Predictions')\n",
    "\n",
    "for bar, count in zip(bars1, total_counts):\n",
    "    plt.text(bar.get_x() + bar.get_width() / 2, bar.get_height(), str(count), ha='center', va='bottom', fontsize=9, color='blue')\n",
    "for bar, count in zip(bars2, incorrect_counts):\n",
    "    plt.text(bar.get_x() + bar.get_width() / 2, count, str(count), ha='center', va='bottom', fontsize=9, color='red')\n",
    "\n",
    "plt.xlabel('Word Count')\n",
    "plt.ylabel('Number of Samples')\n",
    "plt.xticks(word_counts)\n",
    "plt.legend()\n",
    "plt.show()\n"
   ]
  },
  {
   "cell_type": "code",
   "execution_count": 42,
   "metadata": {},
   "outputs": [
    {
     "name": "stdout",
     "output_type": "stream",
     "text": [
      "              precision    recall  f1-score   support\n",
      "\n",
      "    Egyptian       0.78      0.86      0.82      1800\n",
      "       Iraqi       0.80      0.78      0.79      1799\n",
      "    Khaleeji       0.69      0.76      0.72      1797\n",
      "   Levantine       0.80      0.79      0.80      1799\n",
      "       Lybia       0.78      0.77      0.78      1800\n",
      "    Maghrebi       0.84      0.78      0.81      1798\n",
      "      Sudani       0.86      0.80      0.83      1800\n",
      "\n",
      "    accuracy                           0.79     12593\n",
      "   macro avg       0.79      0.79      0.79     12593\n",
      "weighted avg       0.79      0.79      0.79     12593\n",
      "\n"
     ]
    }
   ],
   "source": [
    "from sklearn.metrics import classification_report\n",
    "\n",
    "report = classification_report(predictions_test_df['true_labels'], predictions_test_df['predicted_labels'], target_names=names2.values())\n",
    "print(report)"
   ]
  },
  {
   "cell_type": "code",
   "execution_count": null,
   "metadata": {},
   "outputs": [
    {
     "name": "stdout",
     "output_type": "stream",
     "text": [
      "Accuracy for Egyptian: 0.7819\n",
      "Accuracy for Iraqi: 0.8027\n",
      "Accuracy for Khaleeji: 0.6936\n",
      "Accuracy for Levantine: 0.7999\n",
      "Accuracy for Lybia: 0.7803\n",
      "Accuracy for Maghrebi: 0.8403\n",
      "Accuracy for Sudani: 0.8649\n"
     ]
    }
   ],
   "source": [
    "accuracies = []\n",
    "for i in range(0,7):\n",
    "    l_pred_true = predictions_test_df[(predictions_test_df['predicted_labels'] == i) & (predictions_test_df['true_labels'] == i)]\n",
    "    accuracies.append(len(l_pred_true) / len(predictions_test_df[predictions_test_df['predicted_labels'] == i]))\n",
    "for i,acc in enumerate(accuracies):\n",
    "    print(f\"Accuracy for {names2[i]}: {acc:.4f}\")"
   ]
  },
  {
   "cell_type": "code",
   "execution_count": 54,
   "metadata": {},
   "outputs": [
    {
     "data": {
      "image/png": "[encoded data removed]",
      "text/plain": [
       "<Figure size 800x500 with 1 Axes>"
      ]
     },
     "metadata": {},
     "output_type": "display_data"
    }
   ],
   "source": [
    "plt.figure(figsize=(8, 5))\n",
    "plt.bar(list(names2.values()), accuracies, color='skyblue')\n",
    "plt.ylabel('Accuracy')\n",
    "plt.xlabel('Dialect')\n",
    "plt.ylim(0, 1)\n",
    "plt.title('Per-class Accuracy')\n",
    "\n",
    "for i, acc in enumerate(accuracies):\n",
    "    plt.text(i, acc + 0.02, f\"{acc*100:.1f}%\", ha='center', va='bottom', fontsize=10, color='black')\n",
    "\n",
    "plt.show()\n"
   ]
  },
  {
   "cell_type": "code",
   "execution_count": 55,
   "metadata": {},
   "outputs": [
    {
     "data": {
      "text/plain": [
       "<Axes: >"
      ]
     },
     "execution_count": 55,
     "metadata": {},
     "output_type": "execute_result"
    },
    {
     "data": {
      "image/png": "[encoded data removed]",
      "text/plain": [
       "<Figure size 1000x800 with 2 Axes>"
      ]
     },
     "metadata": {},
     "output_type": "display_data"
    }
   ],
   "source": [
    "from sklearn.metrics import confusion_matrix\n",
    "import seaborn as sns\n",
    "import matplotlib.pyplot as plt\n",
    "\n",
    "cm = confusion_matrix(predictions_test_df['true_labels'], predictions_test_df['predicted_labels'])\n",
    "plt.figure(figsize=(10, 8))\n",
    "sns.heatmap(cm, annot=True, fmt='d', cmap='Blues', xticklabels=names2.values(), yticklabels=names2.values())"
   ]
  }
 ],
 "metadata": {
  "kernelspec": {
   "display_name": ".venv",
   "language": "python",
   "name": "python3"
  },
  "language_info": {
   "codemirror_mode": {
    "name": "ipython",
    "version": 3
   },
   "file_extension": ".py",
   "mimetype": "text/x-python",
   "name": "python",
   "nbconvert_exporter": "python",
   "pygments_lexer": "ipython3",
   "version": "3.10.0"
  }
 },
 "nbformat": 4,
 "nbformat_minor": 2
}
