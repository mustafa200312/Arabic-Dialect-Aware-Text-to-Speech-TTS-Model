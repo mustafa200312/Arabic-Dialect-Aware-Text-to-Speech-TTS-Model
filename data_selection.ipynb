{
 "cells": [
  {
   "cell_type": "code",
   "execution_count": 1,
   "id": "3ca0a300",
   "metadata": {},
   "outputs": [],
   "source": [
    "import pandas as pd\n",
    "import numpy as np"
   ]
  },
  {
   "cell_type": "code",
   "execution_count": 2,
   "id": "190c7d73",
   "metadata": {},
   "outputs": [],
   "source": [
    "df = pd.read_csv('COLLECTED_DATA_2.csv')\n",
    "df = df.drop(columns=['Unnamed: 0'])"
   ]
  },
  {
   "cell_type": "code",
   "execution_count": 3,
   "id": "939fcbf3",
   "metadata": {},
   "outputs": [],
   "source": [
    "df['word_count'] = df['text'].apply(lambda x: len(str(x).split()))"
   ]
  },
  {
   "cell_type": "code",
   "execution_count": 4,
   "id": "f1c13c7a",
   "metadata": {},
   "outputs": [
    {
     "data": {
      "text/plain": [
       "dialect\n",
       "DZ    154851\n",
       "EG    133236\n",
       "SA    105446\n",
       "AE    103145\n",
       "BH     78629\n",
       "LB     62433\n",
       "SY     62036\n",
       "KW     55909\n",
       "PL     54301\n",
       "JO     53109\n",
       "TN     52713\n",
       "LY     39487\n",
       "QA     33031\n",
       "SD     31903\n",
       "OM     26990\n",
       "IQ     20976\n",
       "YE     11882\n",
       "MA     11533\n",
       "Name: count, dtype: int64"
      ]
     },
     "execution_count": 4,
     "metadata": {},
     "output_type": "execute_result"
    }
   ],
   "source": [
    "df.dialect.value_counts()"
   ]
  },
  {
   "cell_type": "code",
   "execution_count": 5,
   "id": "541aebc3",
   "metadata": {},
   "outputs": [
    {
     "data": {
      "text/plain": [
       "count    1.091610e+06\n",
       "mean     1.475619e+01\n",
       "std      1.152860e+02\n",
       "min      1.000000e+00\n",
       "25%      5.000000e+00\n",
       "50%      8.000000e+00\n",
       "75%      1.400000e+01\n",
       "max      2.531300e+04\n",
       "Name: word_count, dtype: float64"
      ]
     },
     "execution_count": 5,
     "metadata": {},
     "output_type": "execute_result"
    }
   ],
   "source": [
    "df['word_count'].describe()"
   ]
  },
  {
   "cell_type": "code",
   "execution_count": 6,
   "id": "e4d976d1",
   "metadata": {},
   "outputs": [],
   "source": [
    "max_l = 14\n",
    "l_row = []\n",
    "for index, row in df.iterrows():\n",
    "    words = str(row['text']).split()\n",
    "    word_count = len(words)\n",
    "    if word_count >= max_l:\n",
    "        for i in range(0, word_count, max_l):\n",
    "            chunk = words[i:i+max_l]\n",
    "            if len(chunk) >= 5:  \n",
    "                l_row.append({'text': ' '.join(chunk), 'dialect': row['dialect']})\n",
    "    elif word_count >= 5:\n",
    "        l_row.append({'text': row['text'], 'dialect': row['dialect']})"
   ]
  },
  {
   "cell_type": "code",
   "execution_count": 7,
   "id": "aa6eff1e",
   "metadata": {},
   "outputs": [],
   "source": [
    "df_new = pd.DataFrame(l_row)"
   ]
  },
  {
   "cell_type": "code",
   "execution_count": 8,
   "id": "d6a8ca53",
   "metadata": {},
   "outputs": [],
   "source": [
    "df_new.drop_duplicates(subset=['text','dialect'], inplace=True)"
   ]
  },
  {
   "cell_type": "code",
   "execution_count": 9,
   "id": "3ac898e0",
   "metadata": {},
   "outputs": [],
   "source": [
    "df_new['word_count'] = df_new['text'].apply(lambda x: len(str(x).split()))"
   ]
  },
  {
   "cell_type": "code",
   "execution_count": 10,
   "id": "f71442dc",
   "metadata": {},
   "outputs": [
    {
     "data": {
      "text/plain": [
       "dialect\n",
       "DZ    309530\n",
       "EG    208077\n",
       "SA    145195\n",
       "AE    126255\n",
       "LB     69521\n",
       "KW     66094\n",
       "SY     64522\n",
       "JO     60224\n",
       "BH     56809\n",
       "PL     53033\n",
       "LY     38501\n",
       "SD     38141\n",
       "TN     36855\n",
       "QA     35582\n",
       "OM     23928\n",
       "IQ     19932\n",
       "MA     11082\n",
       "YE      9608\n",
       "Name: count, dtype: int64"
      ]
     },
     "execution_count": 10,
     "metadata": {},
     "output_type": "execute_result"
    }
   ],
   "source": [
    "df_new.dialect.value_counts()"
   ]
  },
  {
   "cell_type": "code",
   "execution_count": 11,
   "id": "f66f2276",
   "metadata": {},
   "outputs": [],
   "source": [
    "# samples based on iq 18000"
   ]
  },
  {
   "cell_type": "code",
   "execution_count": 12,
   "id": "d0b834c4",
   "metadata": {},
   "outputs": [],
   "source": [
    "Khaleeji = ['SA','AE','KW','BH','QA','OM']\n",
    "Levantine = ['LB','JO','PL','SY']\n",
    "Maghrebi = ['MA','DZ','TN']\n",
    "Iraqi = ['IQ']\n",
    "Lybian = ['LY']\n",
    "Egyptian = ['EG']\n",
    "sudani = ['SD']"
   ]
  },
  {
   "cell_type": "code",
   "execution_count": 13,
   "id": "f2ddd1a3",
   "metadata": {},
   "outputs": [],
   "source": [
    "Iraqi = df_new[df_new.dialect=='IQ']"
   ]
  },
  {
   "cell_type": "code",
   "execution_count": 14,
   "id": "a5dc21ea",
   "metadata": {},
   "outputs": [],
   "source": [
    "Iraqi_distribution = Iraqi['word_count'].value_counts()/Iraqi['word_count'].count()"
   ]
  },
  {
   "cell_type": "code",
   "execution_count": 15,
   "id": "8a50b9b9",
   "metadata": {},
   "outputs": [],
   "source": [
    "distribution = Iraqi_distribution.to_dict()"
   ]
  },
  {
   "cell_type": "code",
   "execution_count": 17,
   "id": "cb2e5be9",
   "metadata": {},
   "outputs": [],
   "source": [
    "def sample_distribution(df, num, distribution):\n",
    "    samples_per_class = {k: int(v * num) for k, v in distribution.items()}\n",
    "    df_stratified = pd.DataFrame()\n",
    "    for word_count_value, count in samples_per_class.items():\n",
    "        subset = df[df['word_count'] == word_count_value]        \n",
    "        sampled = subset.sample(n=min(count, len(subset)), random_state=42)\n",
    "        df_stratified = pd.concat([df_stratified, sampled])\n",
    "    return df_stratified"
   ]
  },
  {
   "cell_type": "code",
   "execution_count": 18,
   "id": "72c08087",
   "metadata": {},
   "outputs": [],
   "source": [
    "num_samples = 18000"
   ]
  },
  {
   "cell_type": "code",
   "execution_count": 19,
   "id": "546dc4c8",
   "metadata": {},
   "outputs": [],
   "source": [
    "sa_df = sample_distribution(df_new[df_new.dialect=='SA'].reset_index(drop=True), num_samples/6, distribution)\n",
    "ae_df = sample_distribution(df_new[df_new.dialect=='AE'].reset_index(drop=True), num_samples/6, distribution)\n",
    "kw_df = sample_distribution(df_new[df_new.dialect=='KW'].reset_index(drop=True), num_samples/6, distribution)\n",
    "bh_df = sample_distribution(df_new[df_new.dialect=='BH'].reset_index(drop=True), num_samples/6, distribution)\n",
    "qa_df = sample_distribution(df_new[df_new.dialect=='QA'].reset_index(drop=True), num_samples/6, distribution)\n",
    "om_df = sample_distribution(df_new[df_new.dialect=='OM'].reset_index(drop=True), num_samples/6, distribution)\n",
    "Khaleeji = pd.concat([sa_df, ae_df, kw_df, bh_df, qa_df, om_df], ignore_index=True)"
   ]
  },
  {
   "cell_type": "code",
   "execution_count": 20,
   "id": "f965caa9",
   "metadata": {},
   "outputs": [],
   "source": [
    "lb_df = sample_distribution(df_new[df_new.dialect=='LB'].reset_index(drop=True), num_samples/4, distribution)\n",
    "jo_df = sample_distribution(df_new[df_new.dialect=='JO'].reset_index(drop=True), num_samples/4, distribution)\n",
    "pl_df = sample_distribution(df_new[df_new.dialect=='PL'].reset_index(drop=True), num_samples/4, distribution)\n",
    "sy_df = sample_distribution(df_new[df_new.dialect=='SY'].reset_index(drop=True), num_samples/4, distribution)\n",
    "Levantine = pd.concat([lb_df, jo_df, pl_df, sy_df], ignore_index=True)"
   ]
  },
  {
   "cell_type": "code",
   "execution_count": 21,
   "id": "13419584",
   "metadata": {},
   "outputs": [],
   "source": [
    "MA_df = sample_distribution(df_new[df_new.dialect=='MA'].reset_index(drop=True), num_samples/3, distribution)\n",
    "DZ_df = sample_distribution(df_new[df_new.dialect=='DZ'].reset_index(drop=True), num_samples/3, distribution)\n",
    "TN_df = sample_distribution(df_new[df_new.dialect=='TN'].reset_index(drop=True), num_samples/3, distribution)\n",
    "Maghrebi = pd.concat([MA_df, DZ_df, TN_df], ignore_index=True)"
   ]
  },
  {
   "cell_type": "code",
   "execution_count": 22,
   "id": "2c8cdf1e",
   "metadata": {},
   "outputs": [],
   "source": [
    "IQ_df = sample_distribution(df_new[df_new.dialect=='IQ'].reset_index(drop=True), num_samples, distribution)\n",
    "EG_df = sample_distribution(df_new[df_new.dialect=='EG'].reset_index(drop=True), num_samples, distribution)\n",
    "LY_df = sample_distribution(df_new[df_new.dialect=='LY'].reset_index(drop=True), num_samples, distribution)\n",
    "SD = sample_distribution(df_new[df_new.dialect=='SD'].reset_index(drop=True), num_samples, distribution)"
   ]
  },
  {
   "cell_type": "code",
   "execution_count": 23,
   "id": "4a0860c7",
   "metadata": {},
   "outputs": [],
   "source": [
    "Khaleeji['dialect'] = 'Khaleeji'\n",
    "Levantine['dialect'] = 'Levantine'\n",
    "Maghrebi['dialect'] = 'Maghrebi'\n",
    "IQ_df['dialect'] = 'Iraqi'\n",
    "LY_df['dialect'] = 'Lybia'\n",
    "EG_df['dialect'] = 'Egyptian'\n",
    "SD['dialect'] = 'Sudani'"
   ]
  },
  {
   "cell_type": "code",
   "execution_count": 24,
   "id": "1dcabc5e",
   "metadata": {},
   "outputs": [],
   "source": [
    "all_dialects = pd.concat([Khaleeji, Levantine, Maghrebi, IQ_df, LY_df, EG_df, SD], ignore_index=True)"
   ]
  },
  {
   "cell_type": "code",
   "execution_count": 25,
   "id": "ef8f0169",
   "metadata": {},
   "outputs": [],
   "source": [
    "all_dialects.drop_duplicates(subset=['text','dialect','word_count'], inplace=True)"
   ]
  },
  {
   "cell_type": "code",
   "execution_count": 29,
   "id": "4f139248",
   "metadata": {},
   "outputs": [],
   "source": [
    "all_dialects.to_csv('FINAL_data2.csv', index=False)"
   ]
  }
 ],
 "metadata": {
  "kernelspec": {
   "display_name": ".venv",
   "language": "python",
   "name": "python3"
  },
  "language_info": {
   "codemirror_mode": {
    "name": "ipython",
    "version": 3
   },
   "file_extension": ".py",
   "mimetype": "text/x-python",
   "name": "python",
   "nbconvert_exporter": "python",
   "pygments_lexer": "ipython3",
   "version": "3.10.0"
  }
 },
 "nbformat": 4,
 "nbformat_minor": 5
}
