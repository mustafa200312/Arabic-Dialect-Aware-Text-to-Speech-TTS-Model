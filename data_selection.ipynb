{
 "cells": [
  {
   "cell_type": "code",
   "execution_count": 1,
   "id": "3ca0a300",
   "metadata": {},
   "outputs": [],
   "source": [
    "import pandas as pd\n",
    "import numpy as np"
   ]
  },
  {
   "cell_type": "code",
   "execution_count": 2,
   "id": "190c7d73",
   "metadata": {},
   "outputs": [],
   "source": [
    "df = pd.read_csv('COLLECTED_DATA_2.csv')\n",
    "df = df.drop(columns=['Unnamed: 0'])"
   ]
  },
  {
   "cell_type": "code",
   "execution_count": 3,
   "id": "939fcbf3",
   "metadata": {},
   "outputs": [],
   "source": [
    "df['word_count'] = df['text'].apply(lambda x: len(str(x).split()))"
   ]
  },
  {
   "cell_type": "code",
   "execution_count": 8,
   "id": "e4d976d1",
   "metadata": {},
   "outputs": [],
   "source": [
    "l_row = []\n",
    "for index, row in df.iterrows():\n",
    "    words = str(row['text']).split()\n",
    "    word_count = len(words)\n",
    "    if word_count >= 30:\n",
    "        for i in range(0, word_count, 30):\n",
    "            chunk = words[i:i+30]\n",
    "            if len(chunk) >= 5:  \n",
    "                l_row.append({'text': ' '.join(chunk), 'dialect': row['dialect']})\n",
    "    elif word_count >= 5:\n",
    "        l_row.append({'text': row['text'], 'dialect': row['dialect']})"
   ]
  },
  {
   "cell_type": "code",
   "execution_count": 9,
   "id": "aa6eff1e",
   "metadata": {},
   "outputs": [],
   "source": [
    "df_new = pd.DataFrame(l_row)"
   ]
  },
  {
   "cell_type": "code",
   "execution_count": 10,
   "id": "5e2957dc",
   "metadata": {},
   "outputs": [
    {
     "data": {
      "text/plain": [
       "dialect\n",
       "DZ    215397\n",
       "EG    142436\n",
       "SA    101541\n",
       "AE    101027\n",
       "LB     56634\n",
       "SY     54541\n",
       "KW     51008\n",
       "BH     49876\n",
       "JO     46611\n",
       "PL     45582\n",
       "LY     32251\n",
       "TN     30597\n",
       "QA     29048\n",
       "SD     28953\n",
       "OM     22176\n",
       "IQ     16697\n",
       "MA      9664\n",
       "YE      8696\n",
       "Name: count, dtype: int64"
      ]
     },
     "execution_count": 10,
     "metadata": {},
     "output_type": "execute_result"
    }
   ],
   "source": [
    "df_new.dialect.value_counts()"
   ]
  },
  {
   "cell_type": "code",
   "execution_count": 11,
   "id": "f533bcdf",
   "metadata": {},
   "outputs": [],
   "source": [
    "df_new['word_count'] = df_new['text'].apply(lambda x: len(str(x).split()))"
   ]
  },
  {
   "cell_type": "code",
   "execution_count": 12,
   "id": "e12c82d4",
   "metadata": {},
   "outputs": [
    {
     "data": {
      "text/plain": [
       "count    1.042735e+06\n",
       "mean     1.475004e+01\n",
       "std      9.012262e+00\n",
       "min      5.000000e+00\n",
       "25%      7.000000e+00\n",
       "50%      1.100000e+01\n",
       "75%      2.200000e+01\n",
       "max      3.000000e+01\n",
       "Name: word_count, dtype: float64"
      ]
     },
     "execution_count": 12,
     "metadata": {},
     "output_type": "execute_result"
    }
   ],
   "source": [
    "df_new['word_count'].describe()"
   ]
  },
  {
   "cell_type": "code",
   "execution_count": 13,
   "id": "d4c9f358",
   "metadata": {},
   "outputs": [],
   "source": [
    "l_dfs = []"
   ]
  },
  {
   "cell_type": "code",
   "execution_count": 14,
   "id": "7d87a023",
   "metadata": {},
   "outputs": [],
   "source": [
    "for i in df_new['dialect'].unique():\n",
    "    df_dialect = df_new[df_new['dialect'] == i]\n",
    "    df_dialect = df_dialect.nlargest(8500, 'word_count')\n",
    "    l_dfs.append(df_dialect)\n",
    "df_final = pd.concat(l_dfs, ignore_index=True)"
   ]
  },
  {
   "cell_type": "code",
   "execution_count": 15,
   "id": "3c56da4a",
   "metadata": {},
   "outputs": [],
   "source": [
    "df_final.to_csv('COLLECTED_DATA_FINAL2.csv', index=False)"
   ]
  },
  {
   "cell_type": "code",
   "execution_count": 16,
   "id": "4b20b56a",
   "metadata": {},
   "outputs": [
    {
     "data": {
      "text/plain": [
       "dialect\n",
       "AE    8500\n",
       "BH    8500\n",
       "DZ    8500\n",
       "EG    8500\n",
       "IQ    8500\n",
       "JO    8500\n",
       "KW    8500\n",
       "LB    8500\n",
       "LY    8500\n",
       "MA    8500\n",
       "OM    8500\n",
       "PL    8500\n",
       "QA    8500\n",
       "SA    8500\n",
       "SD    8500\n",
       "SY    8500\n",
       "TN    8500\n",
       "YE    8500\n",
       "Name: count, dtype: int64"
      ]
     },
     "execution_count": 16,
     "metadata": {},
     "output_type": "execute_result"
    }
   ],
   "source": [
    "df_final.dialect.value_counts()"
   ]
  }
 ],
 "metadata": {
  "kernelspec": {
   "display_name": ".venv",
   "language": "python",
   "name": "python3"
  },
  "language_info": {
   "codemirror_mode": {
    "name": "ipython",
    "version": 3
   },
   "file_extension": ".py",
   "mimetype": "text/x-python",
   "name": "python",
   "nbconvert_exporter": "python",
   "pygments_lexer": "ipython3",
   "version": "3.10.0"
  }
 },
 "nbformat": 4,
 "nbformat_minor": 5
}
